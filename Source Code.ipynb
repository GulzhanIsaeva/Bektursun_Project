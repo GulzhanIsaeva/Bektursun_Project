{
 "cells": [
  {
   "cell_type": "markdown",
   "id": "6de053da",
   "metadata": {},
   "source": [
    "# PACKAGES"
   ]
  },
  {
   "cell_type": "markdown",
   "id": "9b50aac2",
   "metadata": {},
   "source": [
    "# Install Packages"
   ]
  },
  {
   "cell_type": "code",
   "execution_count": 109,
   "id": "4f2a2fc3",
   "metadata": {},
   "outputs": [
    {
     "name": "stdout",
     "output_type": "stream",
     "text": [
      "Requirement already satisfied: pandas in c:\\users\\user\\appdata\\local\\programs\\python\\python310\\lib\\site-packages (1.5.1)\n",
      "Requirement already satisfied: numpy>=1.21.0 in c:\\users\\user\\appdata\\local\\programs\\python\\python310\\lib\\site-packages (from pandas) (1.23.2)\n",
      "Requirement already satisfied: python-dateutil>=2.8.1 in c:\\users\\user\\appdata\\local\\programs\\python\\python310\\lib\\site-packages (from pandas) (2.8.2)\n",
      "Requirement already satisfied: pytz>=2020.1 in c:\\users\\user\\appdata\\local\\programs\\python\\python310\\lib\\site-packages (from pandas) (2022.5)\n",
      "Requirement already satisfied: six>=1.5 in c:\\users\\user\\appdata\\local\\programs\\python\\python310\\lib\\site-packages (from python-dateutil>=2.8.1->pandas) (1.16.0)\n",
      "Requirement already satisfied: numpy in c:\\users\\user\\appdata\\local\\programs\\python\\python310\\lib\\site-packages (1.23.2)\n",
      "Requirement already satisfied: scipy in c:\\users\\user\\appdata\\local\\programs\\python\\python310\\lib\\site-packages (1.9.3)\n",
      "Requirement already satisfied: numpy<1.26.0,>=1.18.5 in c:\\users\\user\\appdata\\local\\programs\\python\\python310\\lib\\site-packages (from scipy) (1.23.2)\n",
      "Requirement already satisfied: sklearn in c:\\users\\user\\appdata\\local\\programs\\python\\python310\\lib\\site-packages (0.0)\n",
      "Requirement already satisfied: scikit-learn in c:\\users\\user\\appdata\\local\\programs\\python\\python310\\lib\\site-packages (from sklearn) (1.1.3)\n",
      "Requirement already satisfied: scipy>=1.3.2 in c:\\users\\user\\appdata\\local\\programs\\python\\python310\\lib\\site-packages (from scikit-learn->sklearn) (1.9.3)\n",
      "Requirement already satisfied: threadpoolctl>=2.0.0 in c:\\users\\user\\appdata\\local\\programs\\python\\python310\\lib\\site-packages (from scikit-learn->sklearn) (3.1.0)\n",
      "Requirement already satisfied: numpy>=1.17.3 in c:\\users\\user\\appdata\\local\\programs\\python\\python310\\lib\\site-packages (from scikit-learn->sklearn) (1.23.2)\n",
      "Requirement already satisfied: joblib>=1.0.0 in c:\\users\\user\\appdata\\local\\programs\\python\\python310\\lib\\site-packages (from scikit-learn->sklearn) (1.2.0)\n",
      "Requirement already satisfied: matplotlib in c:\\users\\user\\appdata\\local\\programs\\python\\python310\\lib\\site-packages (3.6.0)\n",
      "Requirement already satisfied: kiwisolver>=1.0.1 in c:\\users\\user\\appdata\\local\\programs\\python\\python310\\lib\\site-packages (from matplotlib) (1.4.4)\n",
      "Requirement already satisfied: pyparsing>=2.2.1 in c:\\users\\user\\appdata\\local\\programs\\python\\python310\\lib\\site-packages (from matplotlib) (3.0.9)\n",
      "Requirement already satisfied: pillow>=6.2.0 in c:\\users\\user\\appdata\\local\\programs\\python\\python310\\lib\\site-packages (from matplotlib) (9.3.0)\n",
      "Requirement already satisfied: fonttools>=4.22.0 in c:\\users\\user\\appdata\\local\\programs\\python\\python310\\lib\\site-packages (from matplotlib) (4.38.0)\n",
      "Requirement already satisfied: packaging>=20.0 in c:\\users\\user\\appdata\\local\\programs\\python\\python310\\lib\\site-packages (from matplotlib) (21.3)\n",
      "Requirement already satisfied: cycler>=0.10 in c:\\users\\user\\appdata\\local\\programs\\python\\python310\\lib\\site-packages (from matplotlib) (0.11.0)\n",
      "Requirement already satisfied: python-dateutil>=2.7 in c:\\users\\user\\appdata\\local\\programs\\python\\python310\\lib\\site-packages (from matplotlib) (2.8.2)\n",
      "Requirement already satisfied: contourpy>=1.0.1 in c:\\users\\user\\appdata\\local\\programs\\python\\python310\\lib\\site-packages (from matplotlib) (1.0.5)\n",
      "Requirement already satisfied: numpy>=1.19 in c:\\users\\user\\appdata\\local\\programs\\python\\python310\\lib\\site-packages (from matplotlib) (1.23.2)\n",
      "Requirement already satisfied: six>=1.5 in c:\\users\\user\\appdata\\local\\programs\\python\\python310\\lib\\site-packages (from python-dateutil>=2.7->matplotlib) (1.16.0)\n",
      "Requirement already satisfied: nltk in c:\\users\\user\\appdata\\local\\programs\\python\\python310\\lib\\site-packages (3.8)\n",
      "Requirement already satisfied: regex>=2021.8.3 in c:\\users\\user\\appdata\\local\\programs\\python\\python310\\lib\\site-packages (from nltk) (2022.10.31)\n",
      "Requirement already satisfied: click in c:\\users\\user\\appdata\\local\\programs\\python\\python310\\lib\\site-packages (from nltk) (8.1.3)\n",
      "Requirement already satisfied: joblib in c:\\users\\user\\appdata\\local\\programs\\python\\python310\\lib\\site-packages (from nltk) (1.2.0)\n",
      "Requirement already satisfied: tqdm in c:\\users\\user\\appdata\\local\\programs\\python\\python310\\lib\\site-packages (from nltk) (4.64.1)\n",
      "Requirement already satisfied: colorama in c:\\users\\user\\appdata\\local\\programs\\python\\python310\\lib\\site-packages (from click->nltk) (0.4.6)\n"
     ]
    }
   ],
   "source": [
    "!pip install pandas\n",
    "!pip install numpy\n",
    "!pip install scipy\n",
    "!pip install sklearn\n",
    "!pip install matplotlib\n",
    "!pip install nltk"
   ]
  },
  {
   "cell_type": "markdown",
   "id": "4ba8acf1",
   "metadata": {},
   "source": [
    "# Load Packages"
   ]
  },
  {
   "cell_type": "code",
   "execution_count": 110,
   "id": "b11e93fd",
   "metadata": {},
   "outputs": [],
   "source": [
    "import codecs\n",
    "import re\n",
    "import copy\n",
    "import collections\n",
    "\n",
    "import numpy as np\n",
    "import pandas as pd\n",
    "import nltk\n",
    "from nltk.stem import PorterStemmer\n",
    "from nltk.tokenize import WordPunctTokenizer\n",
    "from __future__ import division\n",
    "import matplotlib\n",
    "\n",
    "%matplotlib inline"
   ]
  },
  {
   "cell_type": "markdown",
   "id": "747f1f83",
   "metadata": {},
   "source": [
    "# DATA"
   ]
  },
  {
   "cell_type": "markdown",
   "id": "ccecfe2a",
   "metadata": {},
   "source": [
    "# Read Data and Process Data"
   ]
  },
  {
   "cell_type": "code",
   "execution_count": 114,
   "id": "623444a3",
   "metadata": {},
   "outputs": [],
   "source": [
    "# Import CSV File\n",
    "data = pd.read_csv(r'C:\\Users\\user\\Desktop\\Machine Learning Portfolio\\Gulzhan Isaeva Machine Learning Portfolio\\Tweets.csv', sep = ',')"
   ]
  },
  {
   "cell_type": "markdown",
   "id": "5611d64e",
   "metadata": {},
   "source": [
    "# 1. TOKENIZATION\n",
    "•\tTokenization – remove punctuation and split the text into pieces (tokens)"
   ]
  },
  {
   "cell_type": "markdown",
   "id": "02134862",
   "metadata": {},
   "source": [
    "\n",
    "### Removing punctuatuations and symbols"
   ]
  },
  {
   "cell_type": "code",
   "execution_count": 240,
   "id": "6695147f",
   "metadata": {},
   "outputs": [],
   "source": [
    "# Removing punctuatuations and symbols \n",
    "punctuations = '\"\"!,()-[]''{}:;\\~<>./?''@\"\"#&$%*_'\n",
    "\n",
    "\n",
    "opinion1 = \"$Unpopular opinion- 90% of NFT Founders do not have the life experience or qualifications to run real life business, so what makes you think they can run a web3 one? NFT for Art is different to trying to run an NFT Project as a business.\"\n",
    "\n",
    "no_punct1 = \"\"\n",
    "for char in opinion1:\n",
    "    if(char not in punctuations):\n",
    "        no_punct1 = no_punct1 + char\n",
    "        \n",
    "        \n",
    "    \n",
    "    \n",
    "opinion2 = \"@from a business perspective, having these huge conferences back to back like this is not smart in my opinion.\" \n",
    "\n",
    "no_punct2 = \"\"\n",
    "for char in opinion2:\n",
    "    if(char not in punctuations):\n",
    "        no_punct2 = no_punct2 + char\n",
    "        \n",
    "        \n",
    "opinion3 = \"<>Reminder! as an artist, it is essential that you have the following secured: -Your own smart contract -Your ENS name -Your own website -Your Business Email -Ledger\"  \n",
    "\n",
    "no_punct3 = \"\"\n",
    "for char in opinion3:\n",
    "    if(char not in punctuations):\n",
    "        no_punct3 = no_punct3 + char\n",
    "\n",
    "\n",
    "opinion4 = \"!?it does not matter which group thinks or does what in my opinion as long if all groups are bringing in new people into the NFT space: that adoption at it is best what will result into growing the entire NFT space so we can all: Profit abundance ~NFT Abundance.\" \n",
    "\n",
    "no_punct4 = \"\"\n",
    "for char in opinion4:\n",
    "    if(char not in punctuations):\n",
    "        no_punct4 = no_punct4 + char\n",
    "\n",
    "opinion5 = \"~!unpopular opinion!~ web3 nft crypto people ruined OG for me.. -bruh, that was just last year.. that not really og\"  \n",
    "\n",
    "no_punct5 = \"\"\n",
    "for char in opinion5:\n",
    "    if(char not in punctuations):\n",
    "        no_punct5 = no_punct5 + char\n",
    "\n",
    "\n",
    "opinion6 = \"&Unpopular opinion$: TRON is the best chain for small, medium and large scale NFT projects of all kinds..\"  \n",
    "\n",
    "no_punct6 = \"\"\n",
    "for char in opinion6:\n",
    "    if(char not in punctuations):\n",
    "        no_punct6 = no_punct6 + char"
   ]
  },
  {
   "cell_type": "code",
   "execution_count": 227,
   "id": "97e122b5",
   "metadata": {},
   "outputs": [
    {
     "name": "stdout",
     "output_type": "stream",
     "text": [
      "$Unpopular opinion- 90% of NFT Founders do not have the life experience or qualifications to run real life business, so what makes you think they can run a web3 one? NFT for Art is different to trying to run an NFT Project as a business.\n"
     ]
    },
    {
     "data": {
      "text/plain": [
       "'Unpopular opinion 90 of NFT Founders do not have the life experience or qualifications to run real life business so what makes you think they can run a web3 one NFT for Art is different to trying to run an NFT Project as a business'"
      ]
     },
     "execution_count": 227,
     "metadata": {},
     "output_type": "execute_result"
    }
   ],
   "source": [
    "print(opinion1)\n",
    "\n",
    "no_punct1"
   ]
  },
  {
   "cell_type": "code",
   "execution_count": 180,
   "id": "30d970f1",
   "metadata": {},
   "outputs": [
    {
     "name": "stdout",
     "output_type": "stream",
     "text": [
      "@from a business perspective, having these huge conferences back to back like this is not smart in my opinion.\n"
     ]
    },
    {
     "data": {
      "text/plain": [
       "'from a business perspective having these huge conferences back to back like this is not smart in my opinion'"
      ]
     },
     "execution_count": 180,
     "metadata": {},
     "output_type": "execute_result"
    }
   ],
   "source": [
    "print(opinion2)\n",
    "\n",
    "no_punct2"
   ]
  },
  {
   "cell_type": "code",
   "execution_count": 234,
   "id": "f857f491",
   "metadata": {},
   "outputs": [
    {
     "name": "stdout",
     "output_type": "stream",
     "text": [
      "<>Reminder! as an artist, it is essential that you have the following secured: -Your own smart contract -Your ENS name -Your own website -Your Business Email -Ledger\n"
     ]
    },
    {
     "data": {
      "text/plain": [
       "'Reminder as an artist it is essential that you have the following secured Your own smart contract Your ENS name Your own website Your Business Email Ledger'"
      ]
     },
     "execution_count": 234,
     "metadata": {},
     "output_type": "execute_result"
    }
   ],
   "source": [
    "print(opinion3)\n",
    "\n",
    "no_punct3"
   ]
  },
  {
   "cell_type": "code",
   "execution_count": 241,
   "id": "81cf3d26",
   "metadata": {},
   "outputs": [
    {
     "name": "stdout",
     "output_type": "stream",
     "text": [
      "!?it does not matter which group thinks or does what in my opinion as long if all groups are bringing in new people into the NFT space: that adoption at it is best what will result into growing the entire NFT space so we can all: Profit abundance ~NFT Abundance.\n"
     ]
    },
    {
     "data": {
      "text/plain": [
       "'it does not matter which group thinks or does what in my opinion as long if all groups are bringing in new people into the NFT space that adoption at it is best what will result into growing the entire NFT space so we can all Profit abundance NFT Abundance'"
      ]
     },
     "execution_count": 241,
     "metadata": {},
     "output_type": "execute_result"
    }
   ],
   "source": [
    "print(opinion4)\n",
    "\n",
    "no_punct4"
   ]
  },
  {
   "cell_type": "code",
   "execution_count": 222,
   "id": "87179fc4",
   "metadata": {},
   "outputs": [
    {
     "name": "stdout",
     "output_type": "stream",
     "text": [
      "~!unpopular opinion!~ web3 nft crypto people ruined OG for me.. -bruh, that was just last year.. that not really og\n"
     ]
    },
    {
     "data": {
      "text/plain": [
       "'unpopular opinion web3 nft crypto people ruined OG for me bruh that was just last year that not really og'"
      ]
     },
     "execution_count": 222,
     "metadata": {},
     "output_type": "execute_result"
    }
   ],
   "source": [
    "print(opinion5)\n",
    "\n",
    "no_punct5"
   ]
  },
  {
   "cell_type": "code",
   "execution_count": 184,
   "id": "7a76f3a6",
   "metadata": {},
   "outputs": [
    {
     "name": "stdout",
     "output_type": "stream",
     "text": [
      "&Unpopular opinion$: TRON is the best chain for small, medium and large scale NFT projects of all kinds..\n"
     ]
    },
    {
     "data": {
      "text/plain": [
       "'Unpopular opinion TRON is the best chain for small medium and large scale NFT projects of all kinds'"
      ]
     },
     "execution_count": 184,
     "metadata": {},
     "output_type": "execute_result"
    }
   ],
   "source": [
    "print(opinion6)\n",
    "\n",
    "no_punct6"
   ]
  },
  {
   "cell_type": "markdown",
   "id": "f65f0aef",
   "metadata": {},
   "source": [
    "### Splitting the text "
   ]
  },
  {
   "cell_type": "code",
   "execution_count": 242,
   "id": "7cc93aa4",
   "metadata": {},
   "outputs": [
    {
     "name": "stdout",
     "output_type": "stream",
     "text": [
      "Split text:  ['Unpopular', 'opinion', '90', 'of', 'NFT', 'Founders', 'do', 'not', 'have', 'the', 'life', 'experience', 'or', 'qualifications', 'to', 'run', 'real', 'life', 'business', 'so', 'what', 'makes', 'you', 'think', 'they', 'can', 'run', 'a', 'web3', 'one', 'NFT', 'for', 'Art', 'is', 'different', 'to', 'trying', 'to', 'run', 'an', 'NFT', 'Project', 'as', 'a', 'business']\n",
      "Split text:  ['from', 'a', 'business', 'perspective', 'having', 'these', 'huge', 'conferences', 'back', 'to', 'back', 'like', 'this', 'is', 'not', 'smart', 'in', 'my', 'opinion']\n",
      "Split text:  ['Reminder', 'as', 'an', 'artist', 'it', 'is', 'essential', 'that', 'you', 'have', 'the', 'following', 'secured', 'Your', 'own', 'smart', 'contract', 'Your', 'ENS', 'name', 'Your', 'own', 'website', 'Your', 'Business', 'Email', 'Ledger']\n",
      "Split text:  ['it', 'does', 'not', 'matter', 'which', 'group', 'thinks', 'or', 'does', 'what', 'in', 'my', 'opinion', 'as', 'long', 'if', 'all', 'groups', 'are', 'bringing', 'in', 'new', 'people', 'into', 'the', 'NFT', 'space', 'that', 'adoption', 'at', 'it', 'is', 'best', 'what', 'will', 'result', 'into', 'growing', 'the', 'entire', 'NFT', 'space', 'so', 'we', 'can', 'all', 'Profit', 'abundance', 'NFT', 'Abundance']\n",
      "Split text:  ['unpopular', 'opinion', 'web3', 'nft', 'crypto', 'people', 'ruined', 'OG', 'for', 'me', 'bruh', 'that', 'was', 'just', 'last', 'year', 'that', 'not', 'really', 'og']\n",
      "Split text:  ['Unpopular', 'opinion', 'TRON', 'is', 'the', 'best', 'chain', 'for', 'small', 'medium', 'and', 'large', 'scale', 'NFT', 'projects', 'of', 'all', 'kinds']\n"
     ]
    }
   ],
   "source": [
    "print(\"Split text: \", no_punct1.split(\" \"))\n",
    "\n",
    "print(\"Split text: \", no_punct2.split(\" \"))\n",
    "\n",
    "print(\"Split text: \", no_punct3.split(\" \"))\n",
    "\n",
    "print(\"Split text: \", no_punct4.split(\" \"))\n",
    "\n",
    "print(\"Split text: \", no_punct5.split(\" \"))\n",
    "\n",
    "print(\"Split text: \", no_punct6.split(\" \"))"
   ]
  },
  {
   "cell_type": "markdown",
   "id": "e5615527",
   "metadata": {},
   "source": [
    "### Tokenize the text"
   ]
  },
  {
   "cell_type": "code",
   "execution_count": 186,
   "id": "d4791672",
   "metadata": {},
   "outputs": [
    {
     "name": "stderr",
     "output_type": "stream",
     "text": [
      "[nltk_data] Downloading package punkt to\n",
      "[nltk_data]     C:\\Users\\user\\AppData\\Roaming\\nltk_data...\n",
      "[nltk_data]   Package punkt is already up-to-date!\n",
      "[nltk_data] Downloading package wordnet to\n",
      "[nltk_data]     C:\\Users\\user\\AppData\\Roaming\\nltk_data...\n",
      "[nltk_data]   Package wordnet is already up-to-date!\n"
     ]
    },
    {
     "data": {
      "text/plain": [
       "True"
      ]
     },
     "execution_count": 186,
     "metadata": {},
     "output_type": "execute_result"
    }
   ],
   "source": [
    "import nltk\n",
    "nltk.download('punkt')\n",
    "nltk.download('wordnet')"
   ]
  },
  {
   "cell_type": "code",
   "execution_count": 229,
   "id": "0672cb67",
   "metadata": {},
   "outputs": [
    {
     "data": {
      "text/plain": [
       "['Unpopular',\n",
       " 'opinion',\n",
       " '90',\n",
       " 'of',\n",
       " 'NFT',\n",
       " 'Founders',\n",
       " 'do',\n",
       " 'not',\n",
       " 'have',\n",
       " 'the',\n",
       " 'life',\n",
       " 'experience',\n",
       " 'or',\n",
       " 'qualifications',\n",
       " 'to',\n",
       " 'run',\n",
       " 'real',\n",
       " 'life',\n",
       " 'business',\n",
       " 'so',\n",
       " 'what',\n",
       " 'makes',\n",
       " 'you',\n",
       " 'think',\n",
       " 'they',\n",
       " 'can',\n",
       " 'run',\n",
       " 'a',\n",
       " 'web3',\n",
       " 'one',\n",
       " 'NFT',\n",
       " 'for',\n",
       " 'Art',\n",
       " 'is',\n",
       " 'different',\n",
       " 'to',\n",
       " 'trying',\n",
       " 'to',\n",
       " 'run',\n",
       " 'an',\n",
       " 'NFT',\n",
       " 'Project',\n",
       " 'as',\n",
       " 'a',\n",
       " 'business']"
      ]
     },
     "execution_count": 229,
     "metadata": {},
     "output_type": "execute_result"
    }
   ],
   "source": [
    "a1 = nltk.word_tokenize(no_punct1)\n",
    "a1"
   ]
  },
  {
   "cell_type": "code",
   "execution_count": 200,
   "id": "0a3bce65",
   "metadata": {},
   "outputs": [
    {
     "data": {
      "text/plain": [
       "['from',\n",
       " 'a',\n",
       " 'business',\n",
       " 'perspective',\n",
       " 'having',\n",
       " 'these',\n",
       " 'huge',\n",
       " 'conferences',\n",
       " 'back',\n",
       " 'to',\n",
       " 'back',\n",
       " 'like',\n",
       " 'this',\n",
       " 'is',\n",
       " 'not',\n",
       " 'smart',\n",
       " 'in',\n",
       " 'my',\n",
       " 'opinion']"
      ]
     },
     "execution_count": 200,
     "metadata": {},
     "output_type": "execute_result"
    }
   ],
   "source": [
    "a2 = nltk.word_tokenize(no_punct2)\n",
    "a2"
   ]
  },
  {
   "cell_type": "code",
   "execution_count": 236,
   "id": "ac06a65f",
   "metadata": {},
   "outputs": [
    {
     "data": {
      "text/plain": [
       "['Reminder',\n",
       " 'as',\n",
       " 'an',\n",
       " 'artist',\n",
       " 'it',\n",
       " 'is',\n",
       " 'essential',\n",
       " 'that',\n",
       " 'you',\n",
       " 'have',\n",
       " 'the',\n",
       " 'following',\n",
       " 'secured',\n",
       " 'Your',\n",
       " 'own',\n",
       " 'smart',\n",
       " 'contract',\n",
       " 'Your',\n",
       " 'ENS',\n",
       " 'name',\n",
       " 'Your',\n",
       " 'own',\n",
       " 'website',\n",
       " 'Your',\n",
       " 'Business',\n",
       " 'Email',\n",
       " 'Ledger']"
      ]
     },
     "execution_count": 236,
     "metadata": {},
     "output_type": "execute_result"
    }
   ],
   "source": [
    "a3 = nltk.word_tokenize(no_punct3)\n",
    "a3"
   ]
  },
  {
   "cell_type": "code",
   "execution_count": 243,
   "id": "3b05bf58",
   "metadata": {},
   "outputs": [
    {
     "data": {
      "text/plain": [
       "['it',\n",
       " 'does',\n",
       " 'not',\n",
       " 'matter',\n",
       " 'which',\n",
       " 'group',\n",
       " 'thinks',\n",
       " 'or',\n",
       " 'does',\n",
       " 'what',\n",
       " 'in',\n",
       " 'my',\n",
       " 'opinion',\n",
       " 'as',\n",
       " 'long',\n",
       " 'if',\n",
       " 'all',\n",
       " 'groups',\n",
       " 'are',\n",
       " 'bringing',\n",
       " 'in',\n",
       " 'new',\n",
       " 'people',\n",
       " 'into',\n",
       " 'the',\n",
       " 'NFT',\n",
       " 'space',\n",
       " 'that',\n",
       " 'adoption',\n",
       " 'at',\n",
       " 'it',\n",
       " 'is',\n",
       " 'best',\n",
       " 'what',\n",
       " 'will',\n",
       " 'result',\n",
       " 'into',\n",
       " 'growing',\n",
       " 'the',\n",
       " 'entire',\n",
       " 'NFT',\n",
       " 'space',\n",
       " 'so',\n",
       " 'we',\n",
       " 'can',\n",
       " 'all',\n",
       " 'Profit',\n",
       " 'abundance',\n",
       " 'NFT',\n",
       " 'Abundance']"
      ]
     },
     "execution_count": 243,
     "metadata": {},
     "output_type": "execute_result"
    }
   ],
   "source": [
    "a4 = nltk.word_tokenize(no_punct4)\n",
    "a4"
   ]
  },
  {
   "cell_type": "code",
   "execution_count": 224,
   "id": "8e839fa7",
   "metadata": {},
   "outputs": [
    {
     "data": {
      "text/plain": [
       "['unpopular',\n",
       " 'opinion',\n",
       " 'web3',\n",
       " 'nft',\n",
       " 'crypto',\n",
       " 'people',\n",
       " 'ruined',\n",
       " 'OG',\n",
       " 'for',\n",
       " 'me',\n",
       " 'bruh',\n",
       " 'that',\n",
       " 'was',\n",
       " 'just',\n",
       " 'last',\n",
       " 'year',\n",
       " 'that',\n",
       " 'not',\n",
       " 'really',\n",
       " 'og']"
      ]
     },
     "execution_count": 224,
     "metadata": {},
     "output_type": "execute_result"
    }
   ],
   "source": [
    "a5 = nltk.word_tokenize(no_punct5)\n",
    "a5"
   ]
  },
  {
   "cell_type": "code",
   "execution_count": 205,
   "id": "1b9ec3b2",
   "metadata": {},
   "outputs": [
    {
     "data": {
      "text/plain": [
       "['Unpopular',\n",
       " 'opinion',\n",
       " 'TRON',\n",
       " 'is',\n",
       " 'the',\n",
       " 'best',\n",
       " 'chain',\n",
       " 'for',\n",
       " 'small',\n",
       " 'medium',\n",
       " 'and',\n",
       " 'large',\n",
       " 'scale',\n",
       " 'NFT',\n",
       " 'projects',\n",
       " 'of',\n",
       " 'all',\n",
       " 'kinds']"
      ]
     },
     "execution_count": 205,
     "metadata": {},
     "output_type": "execute_result"
    }
   ],
   "source": [
    "a6 = nltk.word_tokenize(no_punct6)\n",
    "a6"
   ]
  },
  {
   "cell_type": "markdown",
   "id": "07c9a59f",
   "metadata": {},
   "source": [
    "# 2. Stopword Removal \n",
    "•\tStopword removes commonly used words like \"the\", \"and\", \"a\", \"as\" and etc. which are not relevant to analysis"
   ]
  },
  {
   "cell_type": "code",
   "execution_count": 193,
   "id": "ce053979",
   "metadata": {},
   "outputs": [
    {
     "name": "stdout",
     "output_type": "stream",
     "text": [
      "['i', 'me', 'my', 'myself', 'we', 'our', 'ours', 'ourselves', 'you', \"you're\", \"you've\", \"you'll\", \"you'd\", 'your', 'yours', 'yourself', 'yourselves', 'he', 'him', 'his', 'himself', 'she', \"she's\", 'her', 'hers', 'herself', 'it', \"it's\", 'its', 'itself', 'they', 'them', 'their', 'theirs', 'themselves', 'what', 'which', 'who', 'whom', 'this', 'that', \"that'll\", 'these', 'those', 'am', 'is', 'are', 'was', 'were', 'be', 'been', 'being', 'have', 'has', 'had', 'having', 'do', 'does', 'did', 'doing', 'a', 'an', 'the', 'and', 'but', 'if', 'or', 'because', 'as', 'until', 'while', 'of', 'at', 'by', 'for', 'with', 'about', 'against', 'between', 'into', 'through', 'during', 'before', 'after', 'above', 'below', 'to', 'from', 'up', 'down', 'in', 'out', 'on', 'off', 'over', 'under', 'again', 'further', 'then', 'once', 'here', 'there', 'when', 'where', 'why', 'how', 'all', 'any', 'both', 'each', 'few', 'more', 'most', 'other', 'some', 'such', 'no', 'nor', 'not', 'only', 'own', 'same', 'so', 'than', 'too', 'very', 's', 't', 'can', 'will', 'just', 'don', \"don't\", 'should', \"should've\", 'now', 'd', 'll', 'm', 'o', 're', 've', 'y', 'ain', 'aren', \"aren't\", 'couldn', \"couldn't\", 'didn', \"didn't\", 'doesn', \"doesn't\", 'hadn', \"hadn't\", 'hasn', \"hasn't\", 'haven', \"haven't\", 'isn', \"isn't\", 'ma', 'mightn', \"mightn't\", 'mustn', \"mustn't\", 'needn', \"needn't\", 'shan', \"shan't\", 'shouldn', \"shouldn't\", 'wasn', \"wasn't\", 'weren', \"weren't\", 'won', \"won't\", 'wouldn', \"wouldn't\"]\n"
     ]
    }
   ],
   "source": [
    "from nltk.corpus import stopwords\n",
    "stop_words = stopwords.words('english')\n",
    "print(stop_words)"
   ]
  },
  {
   "cell_type": "code",
   "execution_count": 230,
   "id": "e8920a97",
   "metadata": {},
   "outputs": [
    {
     "data": {
      "text/plain": [
       "['Unpopular',\n",
       " 'opinion',\n",
       " '90',\n",
       " 'NFT',\n",
       " 'Founders',\n",
       " 'life',\n",
       " 'experience',\n",
       " 'qualifications',\n",
       " 'run',\n",
       " 'real',\n",
       " 'life',\n",
       " 'business',\n",
       " 'makes',\n",
       " 'think',\n",
       " 'run',\n",
       " 'web3',\n",
       " 'one',\n",
       " 'NFT',\n",
       " 'Art',\n",
       " 'different',\n",
       " 'trying',\n",
       " 'run',\n",
       " 'NFT',\n",
       " 'Project',\n",
       " 'business']"
      ]
     },
     "execution_count": 230,
     "metadata": {},
     "output_type": "execute_result"
    }
   ],
   "source": [
    "clean_text1 = [word for word in a1 if not word in stop_words]\n",
    "clean_text1"
   ]
  },
  {
   "cell_type": "code",
   "execution_count": 210,
   "id": "5b786034",
   "metadata": {},
   "outputs": [
    {
     "data": {
      "text/plain": [
       "['business',\n",
       " 'perspective',\n",
       " 'huge',\n",
       " 'conferences',\n",
       " 'back',\n",
       " 'back',\n",
       " 'like',\n",
       " 'smart',\n",
       " 'opinion']"
      ]
     },
     "execution_count": 210,
     "metadata": {},
     "output_type": "execute_result"
    }
   ],
   "source": [
    "clean_text2 = [word for word in a2 if not word in stop_words]\n",
    "clean_text2"
   ]
  },
  {
   "cell_type": "code",
   "execution_count": 237,
   "id": "f5610e73",
   "metadata": {},
   "outputs": [
    {
     "data": {
      "text/plain": [
       "['Reminder',\n",
       " 'artist',\n",
       " 'essential',\n",
       " 'following',\n",
       " 'secured',\n",
       " 'Your',\n",
       " 'smart',\n",
       " 'contract',\n",
       " 'Your',\n",
       " 'ENS',\n",
       " 'name',\n",
       " 'Your',\n",
       " 'website',\n",
       " 'Your',\n",
       " 'Business',\n",
       " 'Email',\n",
       " 'Ledger']"
      ]
     },
     "execution_count": 237,
     "metadata": {},
     "output_type": "execute_result"
    }
   ],
   "source": [
    "clean_text3 = [word for word in a3 if not word in stop_words]\n",
    "clean_text3"
   ]
  },
  {
   "cell_type": "code",
   "execution_count": 244,
   "id": "6aef5228",
   "metadata": {},
   "outputs": [
    {
     "data": {
      "text/plain": [
       "['matter',\n",
       " 'group',\n",
       " 'thinks',\n",
       " 'opinion',\n",
       " 'long',\n",
       " 'groups',\n",
       " 'bringing',\n",
       " 'new',\n",
       " 'people',\n",
       " 'NFT',\n",
       " 'space',\n",
       " 'adoption',\n",
       " 'best',\n",
       " 'result',\n",
       " 'growing',\n",
       " 'entire',\n",
       " 'NFT',\n",
       " 'space',\n",
       " 'Profit',\n",
       " 'abundance',\n",
       " 'NFT',\n",
       " 'Abundance']"
      ]
     },
     "execution_count": 244,
     "metadata": {},
     "output_type": "execute_result"
    }
   ],
   "source": [
    "clean_text4 = [word for word in a4 if not word in stop_words]\n",
    "clean_text4"
   ]
  },
  {
   "cell_type": "code",
   "execution_count": 225,
   "id": "e75eec46",
   "metadata": {},
   "outputs": [
    {
     "data": {
      "text/plain": [
       "['unpopular',\n",
       " 'opinion',\n",
       " 'web3',\n",
       " 'nft',\n",
       " 'crypto',\n",
       " 'people',\n",
       " 'ruined',\n",
       " 'OG',\n",
       " 'bruh',\n",
       " 'last',\n",
       " 'year',\n",
       " 'really',\n",
       " 'og']"
      ]
     },
     "execution_count": 225,
     "metadata": {},
     "output_type": "execute_result"
    }
   ],
   "source": [
    "clean_text5 = [word for word in a5 if not word in stop_words]\n",
    "clean_text5"
   ]
  },
  {
   "cell_type": "code",
   "execution_count": 220,
   "id": "99f0bd3a",
   "metadata": {},
   "outputs": [
    {
     "data": {
      "text/plain": [
       "['Unpopular',\n",
       " 'opinion',\n",
       " 'TRON',\n",
       " 'best',\n",
       " 'chain',\n",
       " 'small',\n",
       " 'medium',\n",
       " 'large',\n",
       " 'scale',\n",
       " 'NFT',\n",
       " 'projects',\n",
       " 'kinds']"
      ]
     },
     "execution_count": 220,
     "metadata": {},
     "output_type": "execute_result"
    }
   ],
   "source": [
    "clean_text6 = [word for word in a6 if not word in stop_words]\n",
    "clean_text6"
   ]
  },
  {
   "cell_type": "code",
   "execution_count": 238,
   "id": "fca55c7b",
   "metadata": {},
   "outputs": [
    {
     "name": "stdout",
     "output_type": "stream",
     "text": [
      "['Unpopular', 'opinion', '90', 'NFT', 'Founders', 'life', 'experience', 'qualifications', 'run', 'real', 'life', 'business', 'makes', 'think', 'run', 'web3', 'one', 'NFT', 'Art', 'different', 'trying', 'run', 'NFT', 'Project', 'business']\n",
      "['business', 'perspective', 'huge', 'conferences', 'back', 'back', 'like', 'smart', 'opinion']\n",
      "['Reminder', 'artist', 'essential', 'following', 'secured', 'Your', 'smart', 'contract', 'Your', 'ENS', 'name', 'Your', 'website', 'Your', 'Business', 'Email', 'Ledger']\n"
     ]
    }
   ],
   "source": [
    "print(clean_text1)\n",
    "print(clean_text2)\n",
    "print(clean_text3)\n"
   ]
  },
  {
   "cell_type": "code",
   "execution_count": 245,
   "id": "da53aca1",
   "metadata": {},
   "outputs": [
    {
     "name": "stdout",
     "output_type": "stream",
     "text": [
      "['matter', 'group', 'thinks', 'opinion', 'long', 'groups', 'bringing', 'new', 'people', 'NFT', 'space', 'adoption', 'best', 'result', 'growing', 'entire', 'NFT', 'space', 'Profit', 'abundance', 'NFT', 'Abundance']\n",
      "['unpopular', 'opinion', 'web3', 'nft', 'crypto', 'people', 'ruined', 'OG', 'bruh', 'last', 'year', 'really', 'og']\n",
      "['Unpopular', 'opinion', 'TRON', 'best', 'chain', 'small', 'medium', 'large', 'scale', 'NFT', 'projects', 'kinds']\n"
     ]
    }
   ],
   "source": [
    "print(clean_text4)\n",
    "print(clean_text5)\n",
    "print(clean_text6)"
   ]
  },
  {
   "cell_type": "markdown",
   "id": "132a0e53",
   "metadata": {},
   "source": [
    "# Stemming"
   ]
  },
  {
   "cell_type": "code",
   "execution_count": 247,
   "id": "0fec6b19",
   "metadata": {},
   "outputs": [],
   "source": [
    "import nltk"
   ]
  },
  {
   "cell_type": "code",
   "execution_count": 248,
   "id": "94e11a36",
   "metadata": {},
   "outputs": [],
   "source": [
    "from nltk.stem import PorterStemmer\n",
    "\n",
    "stemmer = PorterStemmer()"
   ]
  },
  {
   "cell_type": "code",
   "execution_count": 254,
   "id": "292f97da",
   "metadata": {},
   "outputs": [
    {
     "name": "stdout",
     "output_type": "stream",
     "text": [
      "makes | make\n",
      "thinks | think\n",
      "groups | group\n",
      "Founders | founder\n",
      "projects | project\n",
      "kinds | kind\n",
      "qualifications | qualif\n",
      "conferences | confer\n",
      "trying | tri\n",
      "following | follow\n",
      "growing | grow\n"
     ]
    }
   ],
   "source": [
    "words = [\"makes\", \"thinks\", \"groups\", \"Founders\", \"projects\", \"kinds\", \"qualifications\", \"conferences\", \"trying\", \"following\", \"growing\"]\n",
    "\n",
    "for word in words:\n",
    "    print(word, \"|\", stemmer.stem(word))"
   ]
  },
  {
   "cell_type": "markdown",
   "id": "71a45b61",
   "metadata": {},
   "source": [
    "# Analyzing the Final Data\n",
    "In total there are 6 opinions of different people collected from Twitter about NFT:\n",
    "\n",
    "- 50% of them are Positive\n",
    "- 33.33% of them are negative\n",
    "- 16.66% of them are neutral"
   ]
  },
  {
   "cell_type": "raw",
   "id": "378667f2",
   "metadata": {},
   "source": [
    "Number of Words in a Raw Data:\n",
    "\n",
    "Opinion1 number of words:  45\n",
    "Opinion2 number of words:  18\n",
    "Opinion3 number of words:  32\n",
    "Opinion4 number of words:  48\n",
    "Opinion5 number of words:  18\n",
    "Opinion6 number of words:  18"
   ]
  },
  {
   "cell_type": "code",
   "execution_count": 271,
   "id": "5c8258c4",
   "metadata": {},
   "outputs": [
    {
     "name": "stdout",
     "output_type": "stream",
     "text": [
      "Opinion1 number of words:  25\n",
      "Opinion2 number of words:  9\n",
      "Opinion3 number of words:  17\n",
      "Opinion4 number of words:  22\n",
      "Opinion5 number of words:  13\n",
      "Opinion6 number of words:  12\n"
     ]
    }
   ],
   "source": [
    "# Number of Words af each Comment after Refining\n",
    "import nltk as nlp\n",
    "print(\"Opinion1 number of words: \", len(clean_text1))\n",
    "print(\"Opinion2 number of words: \", len(clean_text2))\n",
    "print(\"Opinion3 number of words: \", len(clean_text3))\n",
    "print(\"Opinion4 number of words: \", len(clean_text4))\n",
    "print(\"Opinion5 number of words: \", len(clean_text5))\n",
    "print(\"Opinion6 number of words: \", len(clean_text6))"
   ]
  },
  {
   "cell_type": "raw",
   "id": "7437cfd6",
   "metadata": {},
   "source": [
    "As you can see from the above the unnecessary and useless data was reduced by \n",
    "\n",
    "- 50% minimum and \n",
    "- 72.2% maximum and \n",
    "- the accuracy was not lost."
   ]
  },
  {
   "cell_type": "raw",
   "id": "6a03bb90",
   "metadata": {},
   "source": [
    "\n",
    "As a final result, I can surely say that through text mining technique in Natural Language Processing (NLP) the dataset that was extracted from internet is now more accurate, more understandable and most importantly easy to read.\n"
   ]
  }
 ],
 "metadata": {
  "kernelspec": {
   "display_name": "Python 3 (ipykernel)",
   "language": "python",
   "name": "python3"
  },
  "language_info": {
   "codemirror_mode": {
    "name": "ipython",
    "version": 3
   },
   "file_extension": ".py",
   "mimetype": "text/x-python",
   "name": "python",
   "nbconvert_exporter": "python",
   "pygments_lexer": "ipython3",
   "version": "3.10.6"
  }
 },
 "nbformat": 4,
 "nbformat_minor": 5
}
